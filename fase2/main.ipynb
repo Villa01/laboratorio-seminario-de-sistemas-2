{
 "cells": [
  {
   "cell_type": "code",
   "execution_count": 22,
   "metadata": {},
   "outputs": [],
   "source": [
    "import numpy as np \n",
    "import pandas as pd \n",
    "import matplotlib.pyplot as plt\n",
    "import seaborn as sns"
   ]
  },
  {
   "cell_type": "code",
   "execution_count": 23,
   "metadata": {},
   "outputs": [
    {
     "data": {
      "text/html": [
       "<div>\n",
       "<style scoped>\n",
       "    .dataframe tbody tr th:only-of-type {\n",
       "        vertical-align: middle;\n",
       "    }\n",
       "\n",
       "    .dataframe tbody tr th {\n",
       "        vertical-align: top;\n",
       "    }\n",
       "\n",
       "    .dataframe thead th {\n",
       "        text-align: right;\n",
       "    }\n",
       "</style>\n",
       "<table border=\"1\" class=\"dataframe\">\n",
       "  <thead>\n",
       "    <tr style=\"text-align: right;\">\n",
       "      <th></th>\n",
       "      <th>Name</th>\n",
       "      <th>Age</th>\n",
       "      <th>Gender</th>\n",
       "      <th>Blood Type</th>\n",
       "      <th>Medical Condition</th>\n",
       "      <th>Date of Admission</th>\n",
       "      <th>Doctor</th>\n",
       "      <th>Hospital</th>\n",
       "      <th>Insurance Provider</th>\n",
       "      <th>Billing Amount</th>\n",
       "      <th>Room Number</th>\n",
       "      <th>Admission Type</th>\n",
       "      <th>Discharge Date</th>\n",
       "      <th>Medication</th>\n",
       "      <th>Test Results</th>\n",
       "    </tr>\n",
       "  </thead>\n",
       "  <tbody>\n",
       "    <tr>\n",
       "      <th>0</th>\n",
       "      <td>Tiffany Ramirez</td>\n",
       "      <td>81</td>\n",
       "      <td>Female</td>\n",
       "      <td>O-</td>\n",
       "      <td>Diabetes</td>\n",
       "      <td>2022-11-17</td>\n",
       "      <td>Patrick Parker</td>\n",
       "      <td>Wallace-Hamilton</td>\n",
       "      <td>Medicare</td>\n",
       "      <td>37490.983364</td>\n",
       "      <td>146</td>\n",
       "      <td>Elective</td>\n",
       "      <td>2022-12-01</td>\n",
       "      <td>Aspirin</td>\n",
       "      <td>Inconclusive</td>\n",
       "    </tr>\n",
       "    <tr>\n",
       "      <th>1</th>\n",
       "      <td>Ruben Burns</td>\n",
       "      <td>35</td>\n",
       "      <td>Male</td>\n",
       "      <td>O+</td>\n",
       "      <td>Asthma</td>\n",
       "      <td>2023-06-01</td>\n",
       "      <td>Diane Jackson</td>\n",
       "      <td>Burke, Griffin and Cooper</td>\n",
       "      <td>UnitedHealthcare</td>\n",
       "      <td>47304.064845</td>\n",
       "      <td>404</td>\n",
       "      <td>Emergency</td>\n",
       "      <td>2023-06-15</td>\n",
       "      <td>Lipitor</td>\n",
       "      <td>Normal</td>\n",
       "    </tr>\n",
       "    <tr>\n",
       "      <th>2</th>\n",
       "      <td>Chad Byrd</td>\n",
       "      <td>61</td>\n",
       "      <td>Male</td>\n",
       "      <td>B-</td>\n",
       "      <td>Obesity</td>\n",
       "      <td>2019-01-09</td>\n",
       "      <td>Paul Baker</td>\n",
       "      <td>Walton LLC</td>\n",
       "      <td>Medicare</td>\n",
       "      <td>36874.896997</td>\n",
       "      <td>292</td>\n",
       "      <td>Emergency</td>\n",
       "      <td>2019-02-08</td>\n",
       "      <td>Lipitor</td>\n",
       "      <td>Normal</td>\n",
       "    </tr>\n",
       "    <tr>\n",
       "      <th>3</th>\n",
       "      <td>Antonio Frederick</td>\n",
       "      <td>49</td>\n",
       "      <td>Male</td>\n",
       "      <td>B-</td>\n",
       "      <td>Asthma</td>\n",
       "      <td>2020-05-02</td>\n",
       "      <td>Brian Chandler</td>\n",
       "      <td>Garcia Ltd</td>\n",
       "      <td>Medicare</td>\n",
       "      <td>23303.322092</td>\n",
       "      <td>480</td>\n",
       "      <td>Urgent</td>\n",
       "      <td>2020-05-03</td>\n",
       "      <td>Penicillin</td>\n",
       "      <td>Abnormal</td>\n",
       "    </tr>\n",
       "    <tr>\n",
       "      <th>4</th>\n",
       "      <td>Mrs. Brandy Flowers</td>\n",
       "      <td>51</td>\n",
       "      <td>Male</td>\n",
       "      <td>O-</td>\n",
       "      <td>Arthritis</td>\n",
       "      <td>2021-07-09</td>\n",
       "      <td>Dustin Griffin</td>\n",
       "      <td>Jones, Brown and Murray</td>\n",
       "      <td>UnitedHealthcare</td>\n",
       "      <td>18086.344184</td>\n",
       "      <td>477</td>\n",
       "      <td>Urgent</td>\n",
       "      <td>2021-08-02</td>\n",
       "      <td>Paracetamol</td>\n",
       "      <td>Normal</td>\n",
       "    </tr>\n",
       "    <tr>\n",
       "      <th>...</th>\n",
       "      <td>...</td>\n",
       "      <td>...</td>\n",
       "      <td>...</td>\n",
       "      <td>...</td>\n",
       "      <td>...</td>\n",
       "      <td>...</td>\n",
       "      <td>...</td>\n",
       "      <td>...</td>\n",
       "      <td>...</td>\n",
       "      <td>...</td>\n",
       "      <td>...</td>\n",
       "      <td>...</td>\n",
       "      <td>...</td>\n",
       "      <td>...</td>\n",
       "      <td>...</td>\n",
       "    </tr>\n",
       "    <tr>\n",
       "      <th>9995</th>\n",
       "      <td>James Hood</td>\n",
       "      <td>83</td>\n",
       "      <td>Male</td>\n",
       "      <td>A+</td>\n",
       "      <td>Obesity</td>\n",
       "      <td>2022-07-29</td>\n",
       "      <td>Samuel Moody</td>\n",
       "      <td>Wood, Martin and Simmons</td>\n",
       "      <td>UnitedHealthcare</td>\n",
       "      <td>39606.840083</td>\n",
       "      <td>110</td>\n",
       "      <td>Elective</td>\n",
       "      <td>2022-08-02</td>\n",
       "      <td>Ibuprofen</td>\n",
       "      <td>Abnormal</td>\n",
       "    </tr>\n",
       "    <tr>\n",
       "      <th>9996</th>\n",
       "      <td>Stephanie Evans</td>\n",
       "      <td>47</td>\n",
       "      <td>Female</td>\n",
       "      <td>AB+</td>\n",
       "      <td>Arthritis</td>\n",
       "      <td>2022-01-06</td>\n",
       "      <td>Christopher Yates</td>\n",
       "      <td>Nash-Krueger</td>\n",
       "      <td>Blue Cross</td>\n",
       "      <td>5995.717488</td>\n",
       "      <td>244</td>\n",
       "      <td>Emergency</td>\n",
       "      <td>2022-01-29</td>\n",
       "      <td>Ibuprofen</td>\n",
       "      <td>Normal</td>\n",
       "    </tr>\n",
       "    <tr>\n",
       "      <th>9997</th>\n",
       "      <td>Christopher Martinez</td>\n",
       "      <td>54</td>\n",
       "      <td>Male</td>\n",
       "      <td>B-</td>\n",
       "      <td>Arthritis</td>\n",
       "      <td>2022-07-01</td>\n",
       "      <td>Robert Nicholson</td>\n",
       "      <td>Larson and Sons</td>\n",
       "      <td>Blue Cross</td>\n",
       "      <td>49559.202905</td>\n",
       "      <td>312</td>\n",
       "      <td>Elective</td>\n",
       "      <td>2022-07-15</td>\n",
       "      <td>Ibuprofen</td>\n",
       "      <td>Normal</td>\n",
       "    </tr>\n",
       "    <tr>\n",
       "      <th>9998</th>\n",
       "      <td>Amanda Duke</td>\n",
       "      <td>84</td>\n",
       "      <td>Male</td>\n",
       "      <td>A+</td>\n",
       "      <td>Arthritis</td>\n",
       "      <td>2020-02-06</td>\n",
       "      <td>Jamie Lewis</td>\n",
       "      <td>Wilson-Lyons</td>\n",
       "      <td>UnitedHealthcare</td>\n",
       "      <td>25236.344761</td>\n",
       "      <td>420</td>\n",
       "      <td>Urgent</td>\n",
       "      <td>2020-02-26</td>\n",
       "      <td>Penicillin</td>\n",
       "      <td>Normal</td>\n",
       "    </tr>\n",
       "    <tr>\n",
       "      <th>9999</th>\n",
       "      <td>Eric King</td>\n",
       "      <td>20</td>\n",
       "      <td>Male</td>\n",
       "      <td>B-</td>\n",
       "      <td>Arthritis</td>\n",
       "      <td>2023-03-22</td>\n",
       "      <td>Tasha Avila</td>\n",
       "      <td>Torres, Young and Stewart</td>\n",
       "      <td>Aetna</td>\n",
       "      <td>37223.965865</td>\n",
       "      <td>290</td>\n",
       "      <td>Emergency</td>\n",
       "      <td>2023-04-15</td>\n",
       "      <td>Penicillin</td>\n",
       "      <td>Abnormal</td>\n",
       "    </tr>\n",
       "  </tbody>\n",
       "</table>\n",
       "<p>10000 rows × 15 columns</p>\n",
       "</div>"
      ],
      "text/plain": [
       "                      Name  Age  Gender Blood Type Medical Condition  \\\n",
       "0          Tiffany Ramirez   81  Female         O-          Diabetes   \n",
       "1              Ruben Burns   35    Male         O+            Asthma   \n",
       "2                Chad Byrd   61    Male         B-           Obesity   \n",
       "3        Antonio Frederick   49    Male         B-            Asthma   \n",
       "4      Mrs. Brandy Flowers   51    Male         O-         Arthritis   \n",
       "...                    ...  ...     ...        ...               ...   \n",
       "9995            James Hood   83    Male         A+           Obesity   \n",
       "9996       Stephanie Evans   47  Female        AB+         Arthritis   \n",
       "9997  Christopher Martinez   54    Male         B-         Arthritis   \n",
       "9998           Amanda Duke   84    Male         A+         Arthritis   \n",
       "9999             Eric King   20    Male         B-         Arthritis   \n",
       "\n",
       "     Date of Admission             Doctor                   Hospital  \\\n",
       "0           2022-11-17     Patrick Parker           Wallace-Hamilton   \n",
       "1           2023-06-01      Diane Jackson  Burke, Griffin and Cooper   \n",
       "2           2019-01-09         Paul Baker                 Walton LLC   \n",
       "3           2020-05-02     Brian Chandler                 Garcia Ltd   \n",
       "4           2021-07-09     Dustin Griffin    Jones, Brown and Murray   \n",
       "...                ...                ...                        ...   \n",
       "9995        2022-07-29       Samuel Moody   Wood, Martin and Simmons   \n",
       "9996        2022-01-06  Christopher Yates               Nash-Krueger   \n",
       "9997        2022-07-01   Robert Nicholson            Larson and Sons   \n",
       "9998        2020-02-06        Jamie Lewis               Wilson-Lyons   \n",
       "9999        2023-03-22        Tasha Avila  Torres, Young and Stewart   \n",
       "\n",
       "     Insurance Provider  Billing Amount  Room Number Admission Type  \\\n",
       "0              Medicare    37490.983364          146       Elective   \n",
       "1      UnitedHealthcare    47304.064845          404      Emergency   \n",
       "2              Medicare    36874.896997          292      Emergency   \n",
       "3              Medicare    23303.322092          480         Urgent   \n",
       "4      UnitedHealthcare    18086.344184          477         Urgent   \n",
       "...                 ...             ...          ...            ...   \n",
       "9995   UnitedHealthcare    39606.840083          110       Elective   \n",
       "9996         Blue Cross     5995.717488          244      Emergency   \n",
       "9997         Blue Cross    49559.202905          312       Elective   \n",
       "9998   UnitedHealthcare    25236.344761          420         Urgent   \n",
       "9999              Aetna    37223.965865          290      Emergency   \n",
       "\n",
       "     Discharge Date   Medication  Test Results  \n",
       "0        2022-12-01      Aspirin  Inconclusive  \n",
       "1        2023-06-15      Lipitor        Normal  \n",
       "2        2019-02-08      Lipitor        Normal  \n",
       "3        2020-05-03   Penicillin      Abnormal  \n",
       "4        2021-08-02  Paracetamol        Normal  \n",
       "...             ...          ...           ...  \n",
       "9995     2022-08-02    Ibuprofen      Abnormal  \n",
       "9996     2022-01-29    Ibuprofen        Normal  \n",
       "9997     2022-07-15    Ibuprofen        Normal  \n",
       "9998     2020-02-26   Penicillin        Normal  \n",
       "9999     2023-04-15   Penicillin      Abnormal  \n",
       "\n",
       "[10000 rows x 15 columns]"
      ]
     },
     "execution_count": 23,
     "metadata": {},
     "output_type": "execute_result"
    }
   ],
   "source": [
    "df = pd.read_csv('healthcare_dataset.csv')\n",
    "df"
   ]
  },
  {
   "cell_type": "markdown",
   "metadata": {},
   "source": [
    "## Información del Dataset"
   ]
  },
  {
   "cell_type": "code",
   "execution_count": 24,
   "metadata": {},
   "outputs": [
    {
     "name": "stdout",
     "output_type": "stream",
     "text": [
      "Name                  0.0\n",
      "Age                   0.0\n",
      "Gender                0.0\n",
      "Blood Type            0.0\n",
      "Medical Condition     0.0\n",
      "Date of Admission     0.0\n",
      "Doctor                0.0\n",
      "Hospital              0.0\n",
      "Insurance Provider    0.0\n",
      "Billing Amount        0.0\n",
      "Room Number           0.0\n",
      "Admission Type        0.0\n",
      "Discharge Date        0.0\n",
      "Medication            0.0\n",
      "Test Results          0.0\n",
      "dtype: float64\n"
     ]
    }
   ],
   "source": [
    "# df.head()\n",
    "# df.tail()\n",
    "# df.info()\n",
    "# df.nunique()\n",
    "print((df.isnull().sum()/len(df))*100) # Porcentaje de valores nulos"
   ]
  },
  {
   "cell_type": "markdown",
   "metadata": {},
   "source": [
    "## Depuracion de datos"
   ]
  },
  {
   "cell_type": "code",
   "execution_count": 25,
   "metadata": {},
   "outputs": [
    {
     "name": "stdout",
     "output_type": "stream",
     "text": [
      "<class 'pandas.core.frame.DataFrame'>\n",
      "RangeIndex: 10000 entries, 0 to 9999\n",
      "Data columns (total 8 columns):\n",
      " #   Column              Non-Null Count  Dtype         \n",
      "---  ------              --------------  -----         \n",
      " 0   Age                 10000 non-null  int64         \n",
      " 1   Gender              10000 non-null  object        \n",
      " 2   Blood Type          10000 non-null  object        \n",
      " 3   Medical Condition   10000 non-null  object        \n",
      " 4   Date of Admission   10000 non-null  datetime64[ns]\n",
      " 5   Insurance Provider  10000 non-null  object        \n",
      " 6   Billing Amount      10000 non-null  float64       \n",
      " 7   Discharge Date      10000 non-null  datetime64[ns]\n",
      "dtypes: datetime64[ns](2), float64(1), int64(1), object(4)\n",
      "memory usage: 625.1+ KB\n"
     ]
    }
   ],
   "source": [
    "used_columns = ['Age', 'Gender', 'Blood Type', 'Medical Condition','Date of Admission', 'Insurance Provider', 'Billing Amount', 'Discharge Date']\n",
    "\n",
    "for col in df.columns:\n",
    "    if col not in used_columns:\n",
    "        df = df.drop(col, axis=1)\n",
    "\n",
    "df['Date of Admission'] = pd.to_datetime(df['Date of Admission'])\n",
    "df['Discharge Date'] = pd.to_datetime(df['Discharge Date'])\n",
    "df.info()"
   ]
  },
  {
   "cell_type": "markdown",
   "metadata": {},
   "source": [
    "## Creación de variables"
   ]
  },
  {
   "cell_type": "code",
   "execution_count": 26,
   "metadata": {},
   "outputs": [],
   "source": [
    "df['Hospital Time Spent'] = df['Discharge Date'] - df['Date of Admission']"
   ]
  },
  {
   "cell_type": "markdown",
   "metadata": {},
   "source": [
    "## Resumen estadístico"
   ]
  },
  {
   "cell_type": "code",
   "execution_count": 27,
   "metadata": {},
   "outputs": [
    {
     "data": {
      "text/html": [
       "<div>\n",
       "<style scoped>\n",
       "    .dataframe tbody tr th:only-of-type {\n",
       "        vertical-align: middle;\n",
       "    }\n",
       "\n",
       "    .dataframe tbody tr th {\n",
       "        vertical-align: top;\n",
       "    }\n",
       "\n",
       "    .dataframe thead th {\n",
       "        text-align: right;\n",
       "    }\n",
       "</style>\n",
       "<table border=\"1\" class=\"dataframe\">\n",
       "  <thead>\n",
       "    <tr style=\"text-align: right;\">\n",
       "      <th></th>\n",
       "      <th>count</th>\n",
       "      <th>unique</th>\n",
       "      <th>top</th>\n",
       "      <th>freq</th>\n",
       "      <th>mean</th>\n",
       "      <th>min</th>\n",
       "      <th>25%</th>\n",
       "      <th>50%</th>\n",
       "      <th>75%</th>\n",
       "      <th>max</th>\n",
       "      <th>std</th>\n",
       "    </tr>\n",
       "  </thead>\n",
       "  <tbody>\n",
       "    <tr>\n",
       "      <th>Age</th>\n",
       "      <td>10000.0</td>\n",
       "      <td>NaN</td>\n",
       "      <td>NaN</td>\n",
       "      <td>NaN</td>\n",
       "      <td>51.4522</td>\n",
       "      <td>18.0</td>\n",
       "      <td>35.0</td>\n",
       "      <td>52.0</td>\n",
       "      <td>68.0</td>\n",
       "      <td>85.0</td>\n",
       "      <td>19.588974</td>\n",
       "    </tr>\n",
       "    <tr>\n",
       "      <th>Gender</th>\n",
       "      <td>10000</td>\n",
       "      <td>2</td>\n",
       "      <td>Female</td>\n",
       "      <td>5075</td>\n",
       "      <td>NaN</td>\n",
       "      <td>NaN</td>\n",
       "      <td>NaN</td>\n",
       "      <td>NaN</td>\n",
       "      <td>NaN</td>\n",
       "      <td>NaN</td>\n",
       "      <td>NaN</td>\n",
       "    </tr>\n",
       "    <tr>\n",
       "      <th>Blood Type</th>\n",
       "      <td>10000</td>\n",
       "      <td>8</td>\n",
       "      <td>AB-</td>\n",
       "      <td>1275</td>\n",
       "      <td>NaN</td>\n",
       "      <td>NaN</td>\n",
       "      <td>NaN</td>\n",
       "      <td>NaN</td>\n",
       "      <td>NaN</td>\n",
       "      <td>NaN</td>\n",
       "      <td>NaN</td>\n",
       "    </tr>\n",
       "    <tr>\n",
       "      <th>Medical Condition</th>\n",
       "      <td>10000</td>\n",
       "      <td>6</td>\n",
       "      <td>Asthma</td>\n",
       "      <td>1708</td>\n",
       "      <td>NaN</td>\n",
       "      <td>NaN</td>\n",
       "      <td>NaN</td>\n",
       "      <td>NaN</td>\n",
       "      <td>NaN</td>\n",
       "      <td>NaN</td>\n",
       "      <td>NaN</td>\n",
       "    </tr>\n",
       "    <tr>\n",
       "      <th>Date of Admission</th>\n",
       "      <td>10000</td>\n",
       "      <td>NaN</td>\n",
       "      <td>NaN</td>\n",
       "      <td>NaN</td>\n",
       "      <td>2021-05-01 21:53:25.439999744</td>\n",
       "      <td>2018-10-30 00:00:00</td>\n",
       "      <td>2020-02-10 00:00:00</td>\n",
       "      <td>2021-05-02 00:00:00</td>\n",
       "      <td>2022-07-23 06:00:00</td>\n",
       "      <td>2023-10-30 00:00:00</td>\n",
       "      <td>NaN</td>\n",
       "    </tr>\n",
       "    <tr>\n",
       "      <th>Insurance Provider</th>\n",
       "      <td>10000</td>\n",
       "      <td>5</td>\n",
       "      <td>Cigna</td>\n",
       "      <td>2040</td>\n",
       "      <td>NaN</td>\n",
       "      <td>NaN</td>\n",
       "      <td>NaN</td>\n",
       "      <td>NaN</td>\n",
       "      <td>NaN</td>\n",
       "      <td>NaN</td>\n",
       "      <td>NaN</td>\n",
       "    </tr>\n",
       "    <tr>\n",
       "      <th>Billing Amount</th>\n",
       "      <td>10000.0</td>\n",
       "      <td>NaN</td>\n",
       "      <td>NaN</td>\n",
       "      <td>NaN</td>\n",
       "      <td>25516.806778</td>\n",
       "      <td>1000.180837</td>\n",
       "      <td>13506.523967</td>\n",
       "      <td>25258.112566</td>\n",
       "      <td>37733.913727</td>\n",
       "      <td>49995.902283</td>\n",
       "      <td>14067.292709</td>\n",
       "    </tr>\n",
       "    <tr>\n",
       "      <th>Discharge Date</th>\n",
       "      <td>10000</td>\n",
       "      <td>NaN</td>\n",
       "      <td>NaN</td>\n",
       "      <td>NaN</td>\n",
       "      <td>2021-05-17 11:22:24.960000</td>\n",
       "      <td>2018-11-01 00:00:00</td>\n",
       "      <td>2020-02-23 18:00:00</td>\n",
       "      <td>2021-05-18 00:00:00</td>\n",
       "      <td>2022-08-07 00:00:00</td>\n",
       "      <td>2023-11-27 00:00:00</td>\n",
       "      <td>NaN</td>\n",
       "    </tr>\n",
       "    <tr>\n",
       "      <th>Hospital Time Spent</th>\n",
       "      <td>10000</td>\n",
       "      <td>NaN</td>\n",
       "      <td>NaN</td>\n",
       "      <td>NaN</td>\n",
       "      <td>15 days 13:28:59.520000</td>\n",
       "      <td>1 days 00:00:00</td>\n",
       "      <td>8 days 00:00:00</td>\n",
       "      <td>16 days 00:00:00</td>\n",
       "      <td>23 days 00:00:00</td>\n",
       "      <td>30 days 00:00:00</td>\n",
       "      <td>8 days 14:41:20.078014738</td>\n",
       "    </tr>\n",
       "  </tbody>\n",
       "</table>\n",
       "</div>"
      ],
      "text/plain": [
       "                       count unique     top  freq  \\\n",
       "Age                  10000.0    NaN     NaN   NaN   \n",
       "Gender                 10000      2  Female  5075   \n",
       "Blood Type             10000      8     AB-  1275   \n",
       "Medical Condition      10000      6  Asthma  1708   \n",
       "Date of Admission      10000    NaN     NaN   NaN   \n",
       "Insurance Provider     10000      5   Cigna  2040   \n",
       "Billing Amount       10000.0    NaN     NaN   NaN   \n",
       "Discharge Date         10000    NaN     NaN   NaN   \n",
       "Hospital Time Spent    10000    NaN     NaN   NaN   \n",
       "\n",
       "                                              mean                  min  \\\n",
       "Age                                        51.4522                 18.0   \n",
       "Gender                                         NaN                  NaN   \n",
       "Blood Type                                     NaN                  NaN   \n",
       "Medical Condition                              NaN                  NaN   \n",
       "Date of Admission    2021-05-01 21:53:25.439999744  2018-10-30 00:00:00   \n",
       "Insurance Provider                             NaN                  NaN   \n",
       "Billing Amount                        25516.806778          1000.180837   \n",
       "Discharge Date          2021-05-17 11:22:24.960000  2018-11-01 00:00:00   \n",
       "Hospital Time Spent        15 days 13:28:59.520000      1 days 00:00:00   \n",
       "\n",
       "                                     25%                  50%  \\\n",
       "Age                                 35.0                 52.0   \n",
       "Gender                               NaN                  NaN   \n",
       "Blood Type                           NaN                  NaN   \n",
       "Medical Condition                    NaN                  NaN   \n",
       "Date of Admission    2020-02-10 00:00:00  2021-05-02 00:00:00   \n",
       "Insurance Provider                   NaN                  NaN   \n",
       "Billing Amount              13506.523967         25258.112566   \n",
       "Discharge Date       2020-02-23 18:00:00  2021-05-18 00:00:00   \n",
       "Hospital Time Spent      8 days 00:00:00     16 days 00:00:00   \n",
       "\n",
       "                                     75%                  max  \\\n",
       "Age                                 68.0                 85.0   \n",
       "Gender                               NaN                  NaN   \n",
       "Blood Type                           NaN                  NaN   \n",
       "Medical Condition                    NaN                  NaN   \n",
       "Date of Admission    2022-07-23 06:00:00  2023-10-30 00:00:00   \n",
       "Insurance Provider                   NaN                  NaN   \n",
       "Billing Amount              37733.913727         49995.902283   \n",
       "Discharge Date       2022-08-07 00:00:00  2023-11-27 00:00:00   \n",
       "Hospital Time Spent     23 days 00:00:00     30 days 00:00:00   \n",
       "\n",
       "                                           std  \n",
       "Age                                  19.588974  \n",
       "Gender                                     NaN  \n",
       "Blood Type                                 NaN  \n",
       "Medical Condition                          NaN  \n",
       "Date of Admission                          NaN  \n",
       "Insurance Provider                         NaN  \n",
       "Billing Amount                    14067.292709  \n",
       "Discharge Date                             NaN  \n",
       "Hospital Time Spent  8 days 14:41:20.078014738  "
      ]
     },
     "execution_count": 27,
     "metadata": {},
     "output_type": "execute_result"
    }
   ],
   "source": [
    "df.describe(include='all').T"
   ]
  },
  {
   "cell_type": "markdown",
   "metadata": {},
   "source": [
    "## Separar datos cualitativos y cuantitativos"
   ]
  },
  {
   "cell_type": "code",
   "execution_count": 28,
   "metadata": {},
   "outputs": [
    {
     "name": "stdout",
     "output_type": "stream",
     "text": [
      "Index(['Gender', 'Blood Type', 'Medical Condition', 'Date of Admission',\n",
      "       'Insurance Provider', 'Discharge Date'],\n",
      "      dtype='object')\n",
      "['Age', 'Billing Amount']\n"
     ]
    }
   ],
   "source": [
    "qualitative_cols = df.select_dtypes(include=['object', 'datetime64']).columns\n",
    "quantitative_cols = df.select_dtypes(include=[np.number], exclude=['timedelta64']).columns.tolist()\n",
    "print(qualitative_cols)\n",
    "print(quantitative_cols)"
   ]
  },
  {
   "cell_type": "markdown",
   "metadata": {},
   "source": [
    "### Datos cuantitativos"
   ]
  },
  {
   "cell_type": "code",
   "execution_count": 43,
   "metadata": {},
   "outputs": [
    {
     "name": "stdout",
     "output_type": "stream",
     "text": [
      "Age\n",
      "Skew:  -0.01\n"
     ]
    },
    {
     "data": {
      "image/png": "[encoded data removed]",
      "text/plain": [
       "<Figure size 1500x400 with 2 Axes>"
      ]
     },
     "metadata": {},
     "output_type": "display_data"
    },
    {
     "name": "stdout",
     "output_type": "stream",
     "text": [
      "Billing Amount\n",
      "Skew:  0.01\n"
     ]
    },
    {
     "data": {
      "image/png": "[encoded data removed]",
      "text/plain": [
       "<Figure size 1500x400 with 2 Axes>"
      ]
     },
     "metadata": {},
     "output_type": "display_data"
    }
   ],
   "source": [
    "for col in quantitative_cols:\n",
    "    print(col)\n",
    "    print('Skew: ', round(df[col].skew(),2))\n",
    "    plt.figure(figsize=(15,4))\n",
    "    # -----------------------\n",
    "    plt.subplot(1,2,1)\n",
    "    df[col].hist()\n",
    "    plt.ylabel('count')\n",
    "    # -----------------------\n",
    "    plt.subplot(1, 2, 2)\n",
    "    sns.boxplot(x=df[col])\n",
    "    plt.show()"
   ]
  },
  {
   "cell_type": "markdown",
   "metadata": {},
   "source": [
    "## Transformación de datos"
   ]
  },
  {
   "cell_type": "code",
   "execution_count": 39,
   "metadata": {},
   "outputs": [
    {
     "name": "stdout",
     "output_type": "stream",
     "text": [
      "<class 'pandas.core.frame.DataFrame'>\n",
      "RangeIndex: 10000 entries, 0 to 9999\n",
      "Data columns (total 13 columns):\n",
      " #   Column               Non-Null Count  Dtype          \n",
      "---  ------               --------------  -----          \n",
      " 0   Age                  10000 non-null  int64          \n",
      " 1   Gender               10000 non-null  object         \n",
      " 2   Blood Type           10000 non-null  object         \n",
      " 3   Medical Condition    10000 non-null  object         \n",
      " 4   Date of Admission    10000 non-null  datetime64[ns] \n",
      " 5   Insurance Provider   10000 non-null  object         \n",
      " 6   Billing Amount       10000 non-null  float64        \n",
      " 7   Discharge Date       10000 non-null  datetime64[ns] \n",
      " 8   Hospital Time Spent  10000 non-null  timedelta64[ns]\n",
      " 9   Billing Amount_log   10000 non-null  float64        \n",
      " 10  Age_log              10000 non-null  float64        \n",
      " 11  Billing Amount_std   10000 non-null  float64        \n",
      " 12  Age_std              10000 non-null  float64        \n",
      "dtypes: datetime64[ns](2), float64(5), int64(1), object(4), timedelta64[ns](1)\n",
      "memory usage: 1015.8+ KB\n"
     ]
    },
    {
     "name": "stderr",
     "output_type": "stream",
     "text": [
      "C:\\Users\\javil\\AppData\\Local\\Temp\\ipykernel_37804\\3341303070.py:18: UserWarning: \n",
      "\n",
      "`distplot` is a deprecated function and will be removed in seaborn v0.14.0.\n",
      "\n",
      "Please adapt your code to use either `displot` (a figure-level function with\n",
      "similar flexibility) or `histplot` (an axes-level function for histograms).\n",
      "\n",
      "For a guide to updating your code to use the new functions, please see\n",
      "https://gist.github.com/mwaskom/de44147ed2974457ad6372750bbe5751\n",
      "\n",
      "  sns.distplot(df['Age'], axlabel='Age')\n"
     ]
    },
    {
     "data": {
      "text/plain": [
       "<Axes: xlabel='Age', ylabel='Density'>"
      ]
     },
     "execution_count": 39,
     "metadata": {},
     "output_type": "execute_result"
    },
    {
     "data": {
      "image/png": "[encoded data removed]",
      "text/plain": [
       "<Figure size 640x480 with 1 Axes>"
      ]
     },
     "metadata": {},
     "output_type": "display_data"
    }
   ],
   "source": [
    "def log_transform(df, cols):\n",
    "    for col_name in cols:\n",
    "        if(df[col] == 1.0).all():\n",
    "            df[col_name+'_log'] = np.log(df[col_name]+1)\n",
    "        else:\n",
    "            df[col_name+'_log'] = np.log(df[col_name])\n",
    "\n",
    "def std_transform(df, cols):\n",
    "    for col_name in cols:\n",
    "        df[col_name+'_std'] = np.std(df[col_name])\n",
    "\n",
    "df.head()\n",
    "log_transform(df, ['Billing Amount', 'Age'])\n",
    "std_transform(df, ['Billing Amount', 'Age'])\n",
    "df.info()\n",
    "df.head()\n",
    "\n",
    "sns.distplot(df['Age'], axlabel='Age')"
   ]
  },
  {
   "cell_type": "code",
   "execution_count": 40,
   "metadata": {},
   "outputs": [
    {
     "name": "stderr",
     "output_type": "stream",
     "text": [
      "C:\\Users\\javil\\AppData\\Local\\Temp\\ipykernel_37804\\689745614.py:1: UserWarning: \n",
      "\n",
      "`distplot` is a deprecated function and will be removed in seaborn v0.14.0.\n",
      "\n",
      "Please adapt your code to use either `displot` (a figure-level function with\n",
      "similar flexibility) or `histplot` (an axes-level function for histograms).\n",
      "\n",
      "For a guide to updating your code to use the new functions, please see\n",
      "https://gist.github.com/mwaskom/de44147ed2974457ad6372750bbe5751\n",
      "\n",
      "  sns.distplot(df['Age_std'], axlabel='Age_std')\n",
      "c:\\Users\\javil\\OneDrive - Facultad de Ingeniería de la Universidad de San Carlos de Guatemala\\Erick\\Seminario2\\Demo\\fase2\\venv\\Lib\\site-packages\\seaborn\\distributions.py:2496: UserWarning: Dataset has 0 variance; skipping density estimate. Pass `warn_singular=False` to disable this warning.\n",
      "  kdeplot(**{axis: a}, ax=ax, color=kde_color, **kde_kws)\n"
     ]
    },
    {
     "data": {
      "text/plain": [
       "<Axes: xlabel='Age_std', ylabel='Density'>"
      ]
     },
     "execution_count": 40,
     "metadata": {},
     "output_type": "execute_result"
    },
    {
     "data": {
      "image/png": "[encoded data removed]",
      "text/plain": [
       "<Figure size 640x480 with 1 Axes>"
      ]
     },
     "metadata": {},
     "output_type": "display_data"
    }
   ],
   "source": [
    "\n",
    "sns.distplot(df['Age_std'], axlabel='Age_std')"
   ]
  },
  {
   "cell_type": "markdown",
   "metadata": {},
   "source": [
    "## EDA Multivariable"
   ]
  },
  {
   "cell_type": "code",
   "execution_count": 47,
   "metadata": {},
   "outputs": [
    {
     "name": "stdout",
     "output_type": "stream",
     "text": [
      "   Age  Gender Blood Type Medical Condition Date of Admission  \\\n",
      "0   81  Female         O-          Diabetes        2022-11-17   \n",
      "1   35    Male         O+            Asthma        2023-06-01   \n",
      "2   61    Male         B-           Obesity        2019-01-09   \n",
      "3   49    Male         B-            Asthma        2020-05-02   \n",
      "4   51    Male         O-         Arthritis        2021-07-09   \n",
      "\n",
      "  Insurance Provider  Billing Amount Discharge Date Hospital Time Spent  \\\n",
      "0           Medicare    37490.983364     2022-12-01             14 days   \n",
      "1   UnitedHealthcare    47304.064845     2023-06-15             14 days   \n",
      "2           Medicare    36874.896997     2019-02-08             30 days   \n",
      "3           Medicare    23303.322092     2020-05-03              1 days   \n",
      "4   UnitedHealthcare    18086.344184     2021-08-02             24 days   \n",
      "\n",
      "   Billing Amount_log   Age_log  Billing Amount_std    Age_std  \n",
      "0           10.531856  4.394449        14066.589327  19.587994  \n",
      "1           10.764352  3.555348        14066.589327  19.587994  \n",
      "2           10.515286  4.110874        14066.589327  19.587994  \n",
      "3           10.056351  3.891820        14066.589327  19.587994  \n",
      "4            9.802912  3.931826        14066.589327  19.587994  \n"
     ]
    },
    {
     "data": {
      "text/plain": [
       "<Figure size 1500x1700 with 0 Axes>"
      ]
     },
     "metadata": {},
     "output_type": "display_data"
    }
   ],
   "source": [
    "plt.figure(figsize=(15,17))\n",
    "print(df.head())\n",
    "# sns.pairplot(data=df)\n",
    "plt.show()"
   ]
  }
 ],
 "metadata": {
  "kernelspec": {
   "display_name": "venv",
   "language": "python",
   "name": "python3"
  },
  "language_info": {
   "codemirror_mode": {
    "name": "ipython",
    "version": 3
   },
   "file_extension": ".py",
   "mimetype": "text/x-python",
   "name": "python",
   "nbconvert_exporter": "python",
   "pygments_lexer": "ipython3",
   "version": "3.12.1"
  }
 },
 "nbformat": 4,
 "nbformat_minor": 2
}
